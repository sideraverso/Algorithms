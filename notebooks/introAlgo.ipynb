{
 "cells": [
  {
   "cell_type": "markdown",
   "metadata": {},
   "source": [
    "# Introduction to Data Structures and Algorithms\n",
    "An algorithm describes the computational steps to compute an exact answer to a problem instance. During this presentation we will cover a number of modules:\n",
    "\n",
    "[Log(n) Behavior](#logn)\n",
    "\n",
    "[Word Ladder Problem](#wordladder)\n",
    "\n",
    "- [Challenge Problem #1](#challenge-find-word-ladder) Find Word Ladder between two words\n",
    "- [Challenge Problem #2](#challenge-non-participate) Find a list of words that do not participate in any Word Ladder\n",
    "\n",
    "[Basic Data Structures](#basicds)\n",
    "\n",
    "- [Data Structures Problem #1](#ds-challenge-1) Working with Stacks\n",
    "- [Data Structures Problem #2](#ds-challenge-2) Working with Queues\n",
    "- [Data Structures Problem #3](#ds-challenge-3) Working with Deques\n",
    "\n",
    "[Sorting Algorithms](#sorting)\n",
    "\n",
    "[Graph Algorithms](#graph)\n",
    "\n",
    "- [Challenge Problem #3](#challenge-longest) Find longest Word Ladder with given dictionary\n",
    "- [Challenge Problem #4](#challenge-cliques) Find all Cliques of words forming disjoint Word Ladders\n",
    "\n",
    "\n",
    "\n",
    "<a id='logn'></a>\n",
    "## Log(n) Behavior\n",
    "\n",
    "Let's start with a simple request, namely, to add a list of numbers"
   ]
  },
  {
   "cell_type": "code",
   "execution_count": null,
   "metadata": {},
   "outputs": [],
   "source": [
    "numbers = [5, 2, 99, 13, 9]\n",
    "total = sum(numbers)\n",
    "\"Total is %d\" % total"
   ]
  },
  {
   "cell_type": "markdown",
   "metadata": {},
   "source": [
    "What algorithm would you design to compute the sum of these numbers?"
   ]
  },
  {
   "cell_type": "code",
   "execution_count": null,
   "metadata": {},
   "outputs": [],
   "source": [
    "numbers = [5, 2, 99, 13, 9]\n",
    "total = 0\n",
    "\n",
    "# Fill in your code here\n",
    "\n",
    "\"Total is %d\" % total"
   ]
  },
  {
   "cell_type": "markdown",
   "metadata": {},
   "source": [
    "OK. This wasn't that challenging of a problem. Let's try something else. What if you wanted to check whether a list  contains a target integer?"
   ]
  },
  {
   "cell_type": "code",
   "execution_count": null,
   "metadata": {},
   "outputs": [],
   "source": [
    "target = 13\n",
    "\n",
    "def contains(aList, tgt):\n",
    "    return tgt in aList\n",
    "\n",
    "contains(numbers, target)"
   ]
  },
  {
   "cell_type": "markdown",
   "metadata": {},
   "source": [
    "Since you know nothing about the list, the above code will always work. But what if the numbers were in ascending order? There would be no need to search through whole list, but rather, you could stop as soon as you found the target you were looking for or you encountered a greater number. "
   ]
  },
  {
   "cell_type": "code",
   "execution_count": null,
   "metadata": {},
   "outputs": [],
   "source": [
    "def sortedContains(aList, tgt):\n",
    "    for v in aList:\n",
    "        if v > tgt:\n",
    "            return False\n",
    "        if v == tgt:\n",
    "            return True\n",
    "    return False        \n",
    "\n",
    "sortedContains(numbers, target)"
   ]
  },
  {
   "cell_type": "markdown",
   "metadata": {},
   "source": [
    "Wait. That didn't work! Oh, of course, the input to sortedContains was not a sorted list of numbers. Lets try again"
   ]
  },
  {
   "cell_type": "code",
   "execution_count": null,
   "metadata": {},
   "outputs": [],
   "source": [
    "sortedNumbers = sorted(numbers)\n",
    "\n",
    "sortedContains(sortedNumbers, target)"
   ]
  },
  {
   "cell_type": "markdown",
   "metadata": {},
   "source": [
    "Can we invent a way to search for a target value in a sorted list that is more efficient than checking each number sequentially in order?"
   ]
  },
  {
   "cell_type": "code",
   "execution_count": null,
   "metadata": {},
   "outputs": [],
   "source": [
    "def binaryArraySearch(aList, tgt):\n",
    "    lo = 0\n",
    "    hi = len(aList) - 1\n",
    "    while lo <= hi:\n",
    "        mid = (lo + hi) // 2\n",
    "        if tgt < aList[mid]:\n",
    "            hi = mid - 1\n",
    "        elif tgt > aList[mid]:\n",
    "            lo = mid + 1\n",
    "        else:\n",
    "            return True\n",
    "    return False\n",
    "\n",
    "binaryArraySearch(sortedNumbers, target)"
   ]
  },
  {
   "cell_type": "markdown",
   "metadata": {},
   "source": [
    "Each of these three functions returns the same result, but they exhibit difference performance. "
   ]
  },
  {
   "cell_type": "code",
   "execution_count": null,
   "metadata": {},
   "outputs": [],
   "source": [
    "import timeit\n",
    "import random\n",
    "\n",
    "def outputTiming():\n",
    "    \"\"\"\n",
    "    Generate timing report using random integers from 0 to 16777216,\n",
    "    which greatly reduces the chance that a duplicate exists, thus\n",
    "    ensuring the worst case scenario. Use random.seed(trial) to try\n",
    "    to produce identical number sets across different approaches.\n",
    "    \"\"\"\n",
    "    print ('N\\tContains\\tSortContains\\tBinaryArraySearch')\n",
    "    for trial in [2**_ for _ in range(1,14)]:\n",
    "        numbers = f'sorted([random.randint(0, 2 ** 24) for _ in range({trial})])'\n",
    "     \n",
    "        methods = ['contains', 'sortedContains', 'binaryArraySearch']\n",
    "        counts = {}\n",
    "        for meth in methods:\n",
    "            counts[meth] = timeit.timeit(stmt=f'{meth}(numbers, numbers[-1])', number=10000,\n",
    "                        setup=f'import random\\nfrom __main__ import {meth}\\nrandom.seed({trial})\\nnumbers = {numbers}')\n",
    "\n",
    "        results = '\\t'.join(f'{counts[meth]:f}' for meth in methods)\n",
    "        print (f'{trial}\\t{results}')\n",
    "        \n",
    "outputTiming()\n",
    "\"DONE\""
   ]
  },
  {
   "cell_type": "markdown",
   "metadata": {},
   "source": [
    "The above table shows the performance of these three methods as the problem instances double in size (shown under column N)"
   ]
  },
  {
   "cell_type": "markdown",
   "metadata": {},
   "source": [
    "<a id='wordladder'></a>\n",
    "## Word Ladder Problem\n",
    "In the 1970s there was a famous book by Niklaus Wirth (the inventor of the language Pascal) called \"Algorithms + Data Structures = Programs\". The key idea is that choosing the right data structure is essential to solving programming problems.\n",
    "\n",
    "For this presentation we consider the Word Ladder problem. Starting with a 4-letter word, transform it into a target 4-letter word by changing one letter at a time.\n",
    "\n",
    "COLD -> CORD -> WORD -> WARD -> WARM\n",
    "\n",
    "Let's start by loading up a list of words from a sample dictionary"
   ]
  },
  {
   "cell_type": "code",
   "execution_count": null,
   "metadata": {},
   "outputs": [],
   "source": [
    "inFile = open(\"words.english.txt\", \"r\")\n",
    "wordList = inFile.read().splitlines()\n",
    "\n",
    "\"%d words in word list\" % len(wordList)"
   ]
  },
  {
   "cell_type": "markdown",
   "metadata": {},
   "source": [
    "We have already seen how to locate a target word in a sorted list using BinaryArraySearch. It is possible to do better using a dictionary. For our purposes this is ideal since the list of words do not change during our program."
   ]
  },
  {
   "cell_type": "code",
   "execution_count": null,
   "metadata": {},
   "outputs": [],
   "source": [
    "words = {}\n",
    "for word in wordList:\n",
    "    words[word] = 0\n",
    "    \n",
    "\"%d words in word dictionary\" % len(words)"
   ]
  },
  {
   "cell_type": "markdown",
   "metadata": {},
   "source": [
    "To keep track of the processing state while computing the Word Ladder, we use a concept called a Stage. Each stage has a word and knows its previous stage"
   ]
  },
  {
   "cell_type": "code",
   "execution_count": null,
   "metadata": {},
   "outputs": [],
   "source": [
    "class Stage:\n",
    "    \"\"\"A Stage in the word ladder, recording prior word (which defaults to None).\"\"\"\n",
    "    def __init__(self, word, prior = None):\n",
    "        self.word = word\n",
    "        self.prior = prior\n",
    "\n",
    "    def collectTrail(self):\n",
    "        \"\"\"Return list of words from source to end\"\"\"\n",
    "        trail = []\n",
    "        node = self\n",
    "        while node:\n",
    "            trail.insert(0, node.word)\n",
    "            node = node.prior\n",
    "        return trail\n",
    "    \n",
    "\"Stage class defined\""
   ]
  },
  {
   "cell_type": "markdown",
   "metadata": {},
   "source": [
    "We need to have a way to compute all neighboring words for a given word"
   ]
  },
  {
   "cell_type": "code",
   "execution_count": null,
   "metadata": {},
   "outputs": [],
   "source": [
    "alphabet = \"ABCDEFGHIJKLMNOPQRSTUVWYXZ\"\n",
    "\n",
    "def neighbors(word):\n",
    "    \"\"\"Return valid neighboring 4-letter words of given word.\"\"\"\n",
    "    found = []\n",
    "    for let in alphabet:\n",
    "        for pos in range(0,4):\n",
    "            newWord = word[0:pos] + let + word[pos+1:]\n",
    "            if newWord in words and newWord != word:\n",
    "                found.append(newWord)\n",
    "                \n",
    "    return found\n",
    "\n",
    "print (\"Here are neighbors of COLD\")\n",
    "','.join(neighbors('COLD'))"
   ]
  },
  {
   "cell_type": "markdown",
   "metadata": {},
   "source": [
    "<a id='challenge-find-word-ladder'></a>\n",
    "**Challenge Problem 1**: To pull everything together, the following code uses a queue to explore and compute the Word Ladder from `start` to `end`."
   ]
  },
  {
   "cell_type": "code",
   "execution_count": null,
   "metadata": {},
   "outputs": [],
   "source": [
    "def exploreQueue(start, end):\n",
    "    \"\"\"Using existing collection of words, find ladder from start to end\"\"\"\n",
    "   \n",
    "    from collections import deque\n",
    "    active = deque()\n",
    "    active.append(Stage(start))\n",
    "    \n",
    "    while active:\n",
    "        st = active.popleft()\n",
    "            \n",
    "        for nxt in neighbors(st.word):\n",
    "            link = Stage(nxt, st)\n",
    "            if nxt == end:\n",
    "                return link\n",
    "            active.append(link)\n",
    "\n",
    "    # No chain\n",
    "    return []\n",
    "\n",
    "stg = exploreQueue('COLD', 'WARM')\n",
    "\"%s is the final word in the word ladder\" % stg.word"
   ]
  },
  {
   "cell_type": "markdown",
   "metadata": {},
   "source": [
    "The result returned is the final stage in the word ladder (or 'WARM'). We need additional code to be able to recover the word ladder. Just invoke 'collectTrail' on the stage to retrieve the full word ladder."
   ]
  },
  {
   "cell_type": "code",
   "execution_count": null,
   "metadata": {},
   "outputs": [],
   "source": [
    "stg.collectTrail()"
   ]
  },
  {
   "cell_type": "markdown",
   "metadata": {},
   "source": [
    "<a id='challenge-non-participate'></a>\n",
    "**Challenge Problem 2:** What if you wanted to find a list of words that do not participate in any Word Ladder? The following shows an inefficient solution that takes about 45 seconds using `slowNeighbors`.  Change it to `neighbors` and observe how much faster the program runs"
   ]
  },
  {
   "cell_type": "code",
   "execution_count": null,
   "metadata": {},
   "outputs": [],
   "source": [
    "notParticipating = []\n",
    "\n",
    "def slowNeighbors(word):\n",
    "    \"\"\"When only wordList available.\"\"\"\n",
    "    found = []\n",
    "    for let in alphabet:\n",
    "        for pos in range(0,4):\n",
    "            newWord = word[0:pos] + let + word[pos+1:]\n",
    "            if newWord in wordList and newWord != word:\n",
    "                found.append(newWord)\n",
    "                \n",
    "    return found\n",
    "\n",
    "for word in wordList: \n",
    "    if len(slowNeighbors(word)) == 0:        ### Change 'slowNeighbors' to 'neighbors' to see how much faster it runs!\n",
    "           notParticipating.append(word)\n",
    "\n",
    "','.join(notParticipating)                   ### 60 words belong to no word ladder"
   ]
  },
  {
   "cell_type": "markdown",
   "metadata": {},
   "source": [
    "<a id='basicds'></a>\n",
    "## Basic Data Structures\n",
    "\n",
    "In this presentation we cover a number of fundamental data structures provided for you in Python's default libraries. These are Stacks, Queues, and Double-ended Queues."
   ]
  },
  {
   "cell_type": "code",
   "execution_count": null,
   "metadata": {},
   "outputs": [],
   "source": [
    "st = []\n",
    "st.append(27)\n",
    "print (st.pop())"
   ]
  },
  {
   "cell_type": "markdown",
   "metadata": {},
   "source": [
    "<a id='ds-challenge-1'></a>\n",
    "**Data Structures Challenge 1**: What operations would you do to convert the stack 'st1' into the stack '[3, 4, 8, 9]'. Run the following block first and try to issue commands to st1."
   ]
  },
  {
   "cell_type": "code",
   "execution_count": null,
   "metadata": {},
   "outputs": [],
   "source": [
    "st1 = []\n",
    "st1.append(3)\n",
    "st1.append(4)\n",
    "st1.append(6)\n",
    "st1.append(7)\n",
    "st1"
   ]
  },
  {
   "cell_type": "code",
   "execution_count": null,
   "metadata": {},
   "outputs": [],
   "source": [
    "# Enter commands that transforms st1 into the stack '[3, 4, 8, 9]'\n",
    "\n",
    "\n",
    "# See if it worked...\n",
    "\"Did you succeed? %r\" % (st1 == [3, 4, 8,9])"
   ]
  },
  {
   "cell_type": "markdown",
   "metadata": {},
   "source": [
    "<a id='ds-challenge-2'></a>\n",
    "**Data Structures Challenge 2**: What operations would you do to convert the queue 'q1' into the queue '[8, 3, 5, 6]'. Note for this exercise you must run the code block below to recreate queue if you fail"
   ]
  },
  {
   "cell_type": "code",
   "execution_count": null,
   "metadata": {},
   "outputs": [],
   "source": [
    "from queue import Queue\n",
    "q1 = Queue()\n",
    "q1.put(2)\n",
    "q1.put(8)\n",
    "q1.put(3)\n",
    "\n",
    "\"Queue has %d elements\" % q1.qsize()"
   ]
  },
  {
   "cell_type": "code",
   "execution_count": null,
   "metadata": {},
   "outputs": [],
   "source": [
    "# Enter commands that transforms q1 into the queue '[8, 3, 5, 6]'\n",
    "\n",
    "\n",
    "# If this fails, you must run block above\n",
    "if q1.qsize() == 4:\n",
    "    print(\"Did you succeed? %r\" % ([q1.get(), q1.get(), q1.get(), q1.get()] == [8, 3, 5, 6]))\n",
    "else:\n",
    "    print (\"Did not succeed\")"
   ]
  },
  {
   "cell_type": "markdown",
   "metadata": {},
   "source": [
    "<a id='ds-challenge-3'></a>\n",
    "**Data Structures Challenge 3**: What operations would you do to convert the deque 'dq1' into the deque '[1, 3, 4]'. Note for this exercies you must run the code block below to recreate deque if you fail"
   ]
  },
  {
   "cell_type": "code",
   "execution_count": null,
   "metadata": {},
   "outputs": [],
   "source": [
    "from collections import deque\n",
    "dq1 = deque()\n",
    "dq1.append(7)\n",
    "dq1.append(1)\n",
    "dq1.append(3)\n",
    "\n",
    "dq1"
   ]
  },
  {
   "cell_type": "code",
   "execution_count": null,
   "metadata": {},
   "outputs": [],
   "source": [
    "# Enter commands that transforms dq1 into the deque '[1, 3, 4]'\n",
    "\n",
    "\n",
    "# If this fails, you must run block above\n",
    "if len(dq1) == 3:\n",
    "    print(\"Did you succeed? %r\" % ([dq1.popleft(), dq1.popleft(), dq1.popleft()] == [1, 3, 4]))\n",
    "else:\n",
    "    print (\"Did not succeed\")"
   ]
  },
  {
   "cell_type": "markdown",
   "metadata": {},
   "source": [
    "<a id='sorting'></a>\n",
    "## Sorting\n",
    "Sorting is a fundamental problem in computer science and a practical application in most programs. The goal is to take a list of objects and sort them in place according to some criteria (typically ascending values)."
   ]
  },
  {
   "cell_type": "code",
   "execution_count": null,
   "metadata": {},
   "outputs": [],
   "source": [
    "def insertionSort (A):\n",
    "    \"\"\" Apply INSERTION SORT on A.\"\"\"\n",
    "    for i in range(1,len(A)):\n",
    "        print (\"Iteration %d : %r\" % (i, A))\n",
    "        pos = i-1\n",
    "        val = A[i]\n",
    "        while pos >= 0 and A[pos] > val:\n",
    "            A[pos+1] = A[pos]\n",
    "            pos -= 1\n",
    "        A[pos+1] = val\n",
    "        \n",
    "insertExample = [8, 1, 11, 4, 15, 9, 7, 12, 13, 6]\n",
    "insertionSort(insertExample)\n",
    "insertExample"
   ]
  },
  {
   "cell_type": "markdown",
   "metadata": {},
   "source": [
    "When you run the above code block you can see that the array is sorted from left to right iteratively.\n",
    "\n",
    "Can we do better? One inspiration is to subdivide the problem into two half-sized problems.  The solution, called MERGE SORT, depends on the ability to merge two sorted sub-lists, A[lo..mid] and A[mid+1..hi] into A in place. The following merge function does thius, using an auxiliary storage list of sufficient size."
   ]
  },
  {
   "cell_type": "code",
   "execution_count": null,
   "metadata": {},
   "outputs": [],
   "source": [
    "def merge(A, aux, lo, mid, hi):\n",
    "    \"\"\"Merge A[lo:hi+1] and leave result in A using aux for storage.\"\"\"\n",
    "    for k in range(lo, hi+1):\n",
    "        aux[k] = A[k]\n",
    "\n",
    "    i = lo\n",
    "    r = mid+1\n",
    "\n",
    "    # merge is now ready. Merge from aux back into A\n",
    "    for k in range(lo, hi+1):\n",
    "        if i > mid:            \n",
    "            A[k] = aux[r]\n",
    "            r += 1\n",
    "        elif r > hi:\n",
    "            A[k] = aux[i]\n",
    "            i += 1\n",
    "        elif aux[r] < aux[i]:\n",
    "            A[k] = aux[r]\n",
    "            r += 1\n",
    "        else:\n",
    "            A[k] = aux[i]\n",
    "            i += 1\n",
    "            \n",
    "m_aux = [0,0,0,0,0,0,0,0]\n",
    "\n",
    "# Note that the first four values are in ascending order (1,5,6,7) and the last four (2, 3, 4, 8)\n",
    "mExample = [1, 5, 6, 7, 2, 3, 4, 8]\n",
    "merge(mExample, m_aux, 0, 3, 7)\n",
    "mExample"
   ]
  },
  {
   "cell_type": "markdown",
   "metadata": {},
   "source": [
    "With the above merge capability, then merge sort can be quickly defined:"
   ]
  },
  {
   "cell_type": "code",
   "execution_count": null,
   "metadata": {},
   "outputs": [],
   "source": [
    "def mergeSort (A):\n",
    "    msort (A, [None] * len(A), 0, len(A)-1)\n",
    "\n",
    "def msort(A, aux, lo, hi):\n",
    "    if hi > lo:\n",
    "        mid = (lo + hi) // 2\n",
    "\n",
    "        msort(A, aux, lo, mid)\n",
    "        msort(A, aux, mid+1, hi)\n",
    "        \n",
    "        merge(A, aux, lo, mid, hi)\n",
    "        \n",
    "mSortExample = [1, 5, 6, 7, 2, 3, 4, 8]\n",
    "mergeSort(mSortExample)\n",
    "mSortExample"
   ]
  },
  {
   "cell_type": "markdown",
   "metadata": {},
   "source": [
    "<a id='graph'></a>\n",
    "## Graph Data Structure\n",
    "Graphs are fundamental to computer science and many real-world problems. The code in this section relies on NetworkX, a freely available and powerful third-party library for graph algorithms.\n",
    "\n",
    "Install [NetworkX](https://networkx.github.io/) as follows:\n",
    "\n",
    "```\n",
    "pip3 install networkx==2.3\n",
    "```\n",
    "\n"
   ]
  },
  {
   "cell_type": "code",
   "execution_count": null,
   "metadata": {},
   "outputs": [],
   "source": [
    "import networkx as nx\n",
    "G = nx.DiGraph()\n",
    "\n",
    "G.add_edge('A', 'B')\n",
    "G.add_edge('B', 'A')\n",
    "G.add_edge('C', 'A')\n",
    "G.add_edge('B', 'C')\n",
    "\n",
    "print (\"Nodes %r\" % G.nodes())\n",
    "print (\"Edges %r\" % G.edges())"
   ]
  },
  {
   "cell_type": "markdown",
   "metadata": {},
   "source": [
    "You can also emit visualizations from a graph if you have matplotlib installed (note: you may have to execute the following block twice because of deprecated usage within NetworkX)"
   ]
  },
  {
   "cell_type": "code",
   "execution_count": null,
   "metadata": {},
   "outputs": [],
   "source": [
    "import matplotlib.pyplot as plt\n",
    "\n",
    "nx.draw(G, with_labels=True)\n",
    "plt.savefig(\"simple_graph.png\") "
   ]
  },
  {
   "attachments": {},
   "cell_type": "markdown",
   "metadata": {},
   "source": [
    "Let's construct a graph where each node represents a four-letter word. How should we define the edges on the graph? One idea is to have an edge between nodes U and V if their corresponding words are neighbors, that is, are different by exactly one letter.  So the nodes \"COLD\" and \"BOLD\" will have an edge between them, since they have three letters in common."
   ]
  },
  {
   "cell_type": "code",
   "execution_count": null,
   "metadata": {},
   "outputs": [],
   "source": [
    "import networkx as nx\n",
    "\n",
    "def createGraph(allWords):\n",
    "    \"\"\"Pass in a list of four-letter words.\"\"\"\n",
    "    G = nx.Graph()\n",
    "    for w in allWords:\n",
    "        G.add_node(w)\n",
    "\n",
    "    # Now create edges by considering neighbors of each word. Use fast neighbors implementation!\n",
    "    for node in list(G.nodes()):\n",
    "        for n in neighbors(node):\n",
    "            if n > node:\n",
    "                G.add_edge(n, node)\n",
    "\n",
    "    return G\n",
    "\n",
    "wordGraph = createGraph(wordList)\n",
    "\"Word Graph has %d nodes and %d edges\" % (len(wordGraph.nodes()), len(wordGraph.edges()))"
   ]
  },
  {
   "cell_type": "markdown",
   "metadata": {},
   "source": [
    "What would this graph of 5,875 nodes look like? Instead of computing it here on the fly, I am showing the result of executing the following statements:\n",
    "\n",
    "```python\n",
    "import networkx as nx\n",
    "import matplotlib.pyplot as plt\n",
    "nx.draw(wordGraph, with_labels=True)\n",
    "plt.savefig(\"word_ladder.png\")\n",
    "```\n",
    "\n",
    "![images/word_ladder.png](images/word_ladder.png)\n",
    "\n",
    "The innermost \"blob\" seems to contain the vast majority of the nodes, while orbitting is an \"asteroid belt\" of nodes that appear to belong to no Word Ladder. Recall how earlier we computed 60 words that belong to no word ladder? There are nodes in this asteroid belt that represent these words. Let's remove these 60 words. They are represented by nodes that have no edges, or in graph terms, they have a degree of 0."
   ]
  },
  {
   "cell_type": "code",
   "execution_count": null,
   "metadata": {},
   "outputs": [],
   "source": [
    "nodesToRemove = []\n",
    "for node in list(wordGraph.nodes()):\n",
    "    if wordGraph.degree[node] == 0:\n",
    "        wordGraph.remove_node(node)\n",
    "        \n",
    "\"%d nodes remaining\" % len(wordGraph.nodes())"
   ]
  },
  {
   "cell_type": "markdown",
   "metadata": {},
   "source": [
    "Again, we could recreate the graph using the following statements, but I am just providing the result of this computation.\n",
    "\n",
    "```python\n",
    "plt.clf()                                # clear the old figure\n",
    "nx.draw(wordGraph, with_labels=True)\n",
    "plt.savefig(\"word_ladder_reduced.png\")\n",
    "```\n",
    "\n",
    "![images/word_ladder_reduced.png](images/word_ladder_reduced.png)\n",
    "\n",
    "It looks like there are three smaller \"islands\" that are not connected to the main blob. These words form word ladders, but only  using words from within their cliques. How can we discover these words programmatically? I will show you how later, but in the meantime, here is the resulting visualization of the graph when these \"islands\" are removed:\n",
    "\n",
    "![images/word_ladder_clique.png](images/word_ladder_clique.png)\n",
    "\n",
    "Because of the sheer number of nodes and edges, it can still be hard to visualize this graph.\n",
    "\n",
    "We now turn to solving Word Ladder problems over this graph. The benefit of constructing the graph once is that it can be used repeatedly for Word Ladder questions for any two pairs of words.  What is needed is a strategy to explore the graph. We start with BreadthFirstSearch."
   ]
  },
  {
   "cell_type": "code",
   "execution_count": null,
   "metadata": {},
   "outputs": [],
   "source": [
    "from collections import deque\n",
    "class BreadthFirstSearch:\n",
    "    def __init__(self, G):\n",
    "        self.G = G\n",
    "        self.visited = {}\n",
    "        \n",
    "    def trail(self, pred, end):\n",
    "        \"\"\"Return list of words from source to end\"\"\"\n",
    "        trail = []\n",
    "        node = end\n",
    "        while node:\n",
    "            trail.insert(0, node)\n",
    "            node = pred[node]\n",
    "        return trail\n",
    "\n",
    "    def wordLadder(self, start, end):\n",
    "        \"\"\"Identify word ladder using BreadthFirstSearch, should it exist.\"\"\"\n",
    "        active = deque()\n",
    "        active.append(start)\n",
    "\n",
    "        self.visited = {}\n",
    "        self.visited[start] = True\n",
    "        \n",
    "        pred = {}\n",
    "        pred[start] = None\n",
    "        while active:\n",
    "            u = active.popleft()\n",
    "            if u == end:\n",
    "                return self.trail(pred, end)\n",
    "            \n",
    "            for n in self.G.neighbors(u):\n",
    "                if not n in self.visited:\n",
    "                    self.visited[n] = True\n",
    "                    pred[n] = u\n",
    "                    active.append(n)\n",
    "        return None\n",
    "    \n",
    "bfs = BreadthFirstSearch(wordGraph)\n",
    "print (\"Computed Word Ladder is %r\" % bfs.wordLadder('COLD', 'WARM'))\n",
    "\"%d nodes visited (that's %.2f percent of the graph)\" % (len(bfs.visited), 100.0*len(bfs.visited)/len(bfs.G.nodes()))"
   ]
  },
  {
   "cell_type": "markdown",
   "metadata": {},
   "source": [
    "What if we pursued a depth-first strategy?"
   ]
  },
  {
   "cell_type": "code",
   "execution_count": null,
   "metadata": {},
   "outputs": [],
   "source": [
    "class DepthFirstSearch:\n",
    "    def __init__(self, G):\n",
    "        self.G = G\n",
    "        self.visited = {}\n",
    "\n",
    "    def trail(self, pred, end):\n",
    "        \"\"\"Return list of words from source to end\"\"\"\n",
    "        trail = []\n",
    "        node = end\n",
    "        while node:\n",
    "            trail.insert(0, node)\n",
    "            node = pred[node]\n",
    "        return trail\n",
    "\n",
    "    def wordLadder(self, start, end):\n",
    "        \"\"\"Identify word ladder using DepthFirstSearch, should it exist.\"\"\"\n",
    "        active = deque()\n",
    "        active.append(start)\n",
    "        \n",
    "        self.visited = {}\n",
    "        self.visited[start] = True\n",
    "        \n",
    "        pred = {}\n",
    "        pred[start] = None\n",
    "        while active:\n",
    "            u = active.pop()    # Treat like a stack\n",
    "            \n",
    "            for n in self.G.neighbors(u):\n",
    "                if not n in self.visited:\n",
    "                    self.visited[n] = True\n",
    "                    pred[n] = u\n",
    "                    if n == end:\n",
    "                        return self.trail(pred, end)\n",
    "            \n",
    "                    active.append(n)\n",
    "        return None\n",
    "\n",
    "dfs = DepthFirstSearch(wordGraph)\n",
    "print (\"Computed Word Ladder is %r\" % dfs.wordLadder('COLD', 'WARM'))\n",
    "\"%d nodes visited (that's %.2f percent of the graph)\" % (len(dfs.visited), 100.0*len(dfs.visited)/len(dfs.G.nodes()))"
   ]
  },
  {
   "cell_type": "markdown",
   "metadata": {},
   "source": [
    "Well, that is a surprise! DEPTH FIRST SEARCH explored a smaller percentage of the graph, yet returned a solution that is 37-times longer? I guess you get what you pay for. DEPTH FIRST SEARCH makes no guarantee on the length of the solution whereas BREADTH FIRST SEARCH will ensure that the path returned is the shortest path, in terms of the total number of edges."
   ]
  },
  {
   "cell_type": "markdown",
   "metadata": {},
   "source": [
    "<a id='challenge-longest'></a>\n",
    "**Challenge Problem 3**: Find longest-possible Word Ladder between any two words.\n",
    "    \n",
    "Instead of checking each of the 17,254,875 word ladders (given n=5,875 words, these are the total number of unique pairs) let's solve a more challenging problem and, in the end, solve the problem we were looking for!\n",
    "\n",
    "ALL PAIRS SHORTEST PATH computes the distance of the shortest path between any two nodes. If you run the following code block, a word ladder of longest length is returned (if there were duplicates, just one of these would have been returned). On my computer this takes about 90 seconds."
   ]
  },
  {
   "cell_type": "code",
   "execution_count": null,
   "metadata": {},
   "outputs": [],
   "source": [
    "def longestWordLadderCheckAPSP(G):\n",
    "    \"\"\"\n",
    "    Use Dijkstra's shortest_path to find the longestPath that exists\n",
    "    within the Graph.\n",
    "    \"\"\"\n",
    "    results = dict(nx.all_pairs_shortest_path(G))\n",
    "    longest = 0\n",
    "    longestPath = []\n",
    "    allNodes = list(G.nodes)\n",
    "    for src in range(0, len(allNodes)-1):\n",
    "        srcNode = allNodes[src]\n",
    "        for target in range(src+1, len(allNodes)):\n",
    "            tgtNode = allNodes[target]\n",
    "            if srcNode in results and tgtNode in results[srcNode]:\n",
    "                path = results[srcNode][tgtNode]\n",
    "                if len(path) > longest:\n",
    "                    longest = len(path)\n",
    "                    longestPath = path\n",
    "    \n",
    "    return longestPath\n",
    "\n",
    "longestWordLadderCheckAPSP(wordGraph)"
   ]
  },
  {
   "cell_type": "markdown",
   "metadata": {},
   "source": [
    "If you do not choose to execte the above code block, the result returned is:\n",
    "\n",
    "`'ABRI,ABSI,ASSI,ASSE,ARSE,ERSE,ELSE,ELLE,ALLE,ALME,ALMA,AMMA,AMMI,IMMI,IMMY,ISMY,ISMS'`\n",
    "\n",
    "If you go back and review the visualized graph from before, you will find 'ABRI' at about 1 O'Clock and 'ISMS\" at about 10 O'clock if considering the graph like a clockface.\n",
    "\n",
    "<a id='challenge-cliques'></a>\n",
    "**Challenge problem 4**: Programmatically find all 'cliques' in the graph, that is, a collection of nodes that represent words that can only form Word Ladders with themselves. These are also called disjoint subsets."
   ]
  },
  {
   "cell_type": "code",
   "execution_count": null,
   "metadata": {},
   "outputs": [],
   "source": [
    "class Explore:\n",
    "    \"\"\"\n",
    "    Explore Graph to find Word Ladder connected subsets that are disjoint,\n",
    "    such that it is impossible to form a word ladder from A to B, but you\n",
    "    can form a word ladder from C to D and these are all four letter words.\n",
    "    \"\"\"\n",
    "    def __init__(self, G):\n",
    "        self.G = G\n",
    "        self.sets = {}\n",
    "        self.visited = {}\n",
    "        self.samples = {}\n",
    "        self.explore()\n",
    "\n",
    "    def report(self):\n",
    "        \"\"\"Report the results of the exploration.\"\"\"\n",
    "        print (\"Disjoint subsets of Word Ladders\")\n",
    "        for key in self.sets:\n",
    "            print (str(key) + \" -> \" + str(self.sets[key]) + \" with sample of \" + str(self.samples[key]))\n",
    "        \n",
    "    def explore(self):\n",
    "        \"\"\"Count number of unique disjoint subsets of nodes\"\"\"\n",
    "        index = 0\n",
    "        for n in self.G.nodes:\n",
    "            if not n in self.visited and self.G.degree(n) > 0:\n",
    "                index += 1\n",
    "                active = deque()\n",
    "                numFound = 0\n",
    "                sample = []\n",
    "                active.append(n)\n",
    "                \n",
    "                self.visited[n] = index\n",
    "                while active:\n",
    "                    u = active.pop()   \n",
    "                    numFound += 1\n",
    "                    if numFound < 5:\n",
    "                        sample.append(u)\n",
    "                    for w in self.G.neighbors(u):\n",
    "                        if not w in self.visited:\n",
    "                            self.visited[w] = index\n",
    "                            active.append(w)\n",
    "                self.sets[n] = numFound\n",
    "                self.samples[n] = sample\n",
    "         \n",
    "Explore(wordGraph).report()"
   ]
  },
  {
   "cell_type": "code",
   "execution_count": null,
   "metadata": {},
   "outputs": [],
   "source": []
  }
 ],
 "metadata": {
  "kernelspec": {
   "display_name": "Python 3",
   "language": "python",
   "name": "python3"
  },
  "language_info": {
   "codemirror_mode": {
    "name": "ipython",
    "version": 3
   },
   "file_extension": ".py",
   "mimetype": "text/x-python",
   "name": "python",
   "nbconvert_exporter": "python",
   "pygments_lexer": "ipython3",
   "version": "3.7.4"
  }
 },
 "nbformat": 4,
 "nbformat_minor": 2
}
